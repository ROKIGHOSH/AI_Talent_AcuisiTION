{
 "cells": [
  {
   "cell_type": "code",
   "execution_count": 1,
   "id": "4b84f920",
   "metadata": {},
   "outputs": [],
   "source": [
    "from langgraph.graph import Graph,START,END,StateGraph"
   ]
  },
  {
   "cell_type": "code",
   "execution_count": 2,
   "id": "e994ee1b",
   "metadata": {},
   "outputs": [],
   "source": [
    "class MessageGraph(StateGraph):\n",
    "    def __init__(self, graph: Graph):\n",
    "        super().__init__(graph)\n",
    "        self.graph = graph\n",
    "        self.start = START\n",
    "        self.end = END"
   ]
  },
  {
   "cell_type": "code",
   "execution_count": 3,
   "id": "348996a8",
   "metadata": {},
   "outputs": [],
   "source": [
    "workflow = StateGraph(MessageGraph)"
   ]
  },
  {
   "cell_type": "code",
   "execution_count": 4,
   "id": "e5b1f604",
   "metadata": {},
   "outputs": [],
   "source": [
    "def sourcing_agent():\n",
    "    pass"
   ]
  },
  {
   "cell_type": "code",
   "execution_count": 5,
   "id": "a3928bcd",
   "metadata": {},
   "outputs": [],
   "source": [
    "def screening_agent():\n",
    "    pass"
   ]
  },
  {
   "cell_type": "code",
   "execution_count": 6,
   "id": "3f0ef5b2",
   "metadata": {},
   "outputs": [],
   "source": [
    "def engagement_agent():\n",
    "    pass"
   ]
  },
  {
   "cell_type": "code",
   "execution_count": 7,
   "id": "cbf86be6",
   "metadata": {},
   "outputs": [],
   "source": [
    "def scheduling_agent():\n",
    "    pass"
   ]
  },
  {
   "cell_type": "code",
   "execution_count": 8,
   "id": "b875c096",
   "metadata": {},
   "outputs": [],
   "source": [
    "def TA_agent():\n",
    "    pass"
   ]
  },
  {
   "cell_type": "code",
   "execution_count": 9,
   "id": "862f234a",
   "metadata": {},
   "outputs": [
    {
     "data": {
      "text/plain": [
       "<langgraph.graph.state.StateGraph at 0x2dcb0387ef0>"
      ]
     },
     "execution_count": 9,
     "metadata": {},
     "output_type": "execute_result"
    }
   ],
   "source": [
    "workflow.add_node(\"sourcing_agent\", sourcing_agent)\n",
    "workflow.add_node(\"screening_agent\", screening_agent)\n",
    "workflow.add_node(\"engagement_agent\", engagement_agent)\n",
    "workflow.add_node(\"scheduling_agent\", scheduling_agent)"
   ]
  },
  {
   "cell_type": "code",
   "execution_count": 10,
   "id": "88c71703",
   "metadata": {},
   "outputs": [
    {
     "data": {
      "text/plain": [
       "<langgraph.graph.state.StateGraph at 0x2dcb0387ef0>"
      ]
     },
     "execution_count": 10,
     "metadata": {},
     "output_type": "execute_result"
    }
   ],
   "source": [
    "workflow.add_node(\"Talent Acquisition\", TA_agent)"
   ]
  },
  {
   "cell_type": "code",
   "execution_count": 11,
   "id": "6c2ff4e2",
   "metadata": {},
   "outputs": [
    {
     "data": {
      "text/plain": [
       "<langgraph.graph.state.StateGraph at 0x2dcb0387ef0>"
      ]
     },
     "execution_count": 11,
     "metadata": {},
     "output_type": "execute_result"
    }
   ],
   "source": [
    "workflow.add_edge(START,'Talent Acquisition')"
   ]
  },
  {
   "cell_type": "code",
   "execution_count": 12,
   "id": "d00b0015",
   "metadata": {},
   "outputs": [
    {
     "data": {
      "text/plain": [
       "<langgraph.graph.state.StateGraph at 0x2dcb0387ef0>"
      ]
     },
     "execution_count": 12,
     "metadata": {},
     "output_type": "execute_result"
    }
   ],
   "source": [
    "workflow.add_edge('Talent Acquisition','sourcing_agent')"
   ]
  },
  {
   "cell_type": "code",
   "execution_count": 13,
   "id": "d858958f",
   "metadata": {},
   "outputs": [
    {
     "data": {
      "text/plain": [
       "<langgraph.graph.state.StateGraph at 0x2dcb0387ef0>"
      ]
     },
     "execution_count": 13,
     "metadata": {},
     "output_type": "execute_result"
    }
   ],
   "source": [
    "workflow.add_edge('sourcing_agent','screening_agent')"
   ]
  },
  {
   "cell_type": "code",
   "execution_count": 14,
   "id": "ddd45410",
   "metadata": {},
   "outputs": [
    {
     "data": {
      "text/plain": [
       "<langgraph.graph.state.StateGraph at 0x2dcb0387ef0>"
      ]
     },
     "execution_count": 14,
     "metadata": {},
     "output_type": "execute_result"
    }
   ],
   "source": [
    "workflow.add_edge('screening_agent','engagement_agent')\n",
    "workflow.add_edge('engagement_agent','scheduling_agent')"
   ]
  },
  {
   "cell_type": "code",
   "execution_count": 15,
   "id": "d238bf7a",
   "metadata": {},
   "outputs": [
    {
     "data": {
      "text/plain": [
       "<langgraph.graph.state.StateGraph at 0x2dcb0387ef0>"
      ]
     },
     "execution_count": 15,
     "metadata": {},
     "output_type": "execute_result"
    }
   ],
   "source": [
    "workflow.set_entry_point('sourcing_agent')"
   ]
  },
  {
   "cell_type": "code",
   "execution_count": 16,
   "id": "c204463c",
   "metadata": {},
   "outputs": [
    {
     "data": {
      "text/plain": [
       "<langgraph.graph.state.StateGraph at 0x2dcb0387ef0>"
      ]
     },
     "execution_count": 16,
     "metadata": {},
     "output_type": "execute_result"
    }
   ],
   "source": [
    "workflow.set_finish_point('scheduling_agent')"
   ]
  },
  {
   "cell_type": "code",
   "execution_count": 17,
   "id": "ea9075cc",
   "metadata": {},
   "outputs": [
    {
     "data": {
      "image/png": "[encoded data removed]",
      "text/plain": [
       "<langgraph.graph.state.CompiledStateGraph object at 0x000002DCB17AF1A0>"
      ]
     },
     "execution_count": 17,
     "metadata": {},
     "output_type": "execute_result"
    }
   ],
   "source": [
    "workflow.compile()"
   ]
  },
  {
   "cell_type": "code",
   "execution_count": null,
   "id": "2ad421a3",
   "metadata": {},
   "outputs": [],
   "source": []
  }
 ],
 "metadata": {
  "kernelspec": {
   "display_name": "Python 3",
   "language": "python",
   "name": "python3"
  },
  "language_info": {
   "codemirror_mode": {
    "name": "ipython",
    "version": 3
   },
   "file_extension": ".py",
   "mimetype": "text/x-python",
   "name": "python",
   "nbconvert_exporter": "python",
   "pygments_lexer": "ipython3",
   "version": "3.12.6"
  }
 },
 "nbformat": 4,
 "nbformat_minor": 5
}
